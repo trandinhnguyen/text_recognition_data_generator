{
 "cells": [
  {
   "cell_type": "markdown",
   "metadata": {},
   "source": [
    "# Change label capitalization"
   ]
  },
  {
   "cell_type": "code",
   "execution_count": 5,
   "metadata": {},
   "outputs": [],
   "source": [
    "path = \"generated_datasets_v2/distorted_labels.txt\"\n",
    "with open(path, \"r\") as f:\n",
    "    lines = f.readlines()\n",
    "lines = [line.lower() for line in lines]\n",
    "with open(path, \"w\") as f:\n",
    "    f.writelines(lines)"
   ]
  },
  {
   "cell_type": "markdown",
   "metadata": {},
   "source": [
    "Note '' = \""
   ]
  },
  {
   "cell_type": "markdown",
   "metadata": {},
   "source": [
    "# Generate backgrounds"
   ]
  },
  {
   "cell_type": "code",
   "execution_count": null,
   "metadata": {},
   "outputs": [],
   "source": [
    "import numpy as np\n",
    "import matplotlib.pyplot as plt\n",
    "\n",
    "color_names = [\n",
    "    \"Black\",\n",
    "    \"White\",\n",
    "    \"Red\",\n",
    "    \"Lime\",\n",
    "    \"Blue\",\n",
    "    \"Yellow\",\n",
    "    \"Cyan\",\n",
    "    \"Magenta\",\n",
    "    \"Silver\",\n",
    "    \"Gray\",\n",
    "    \"Maroon\",\n",
    "    \"Olive\",\n",
    "    \"Green\",\n",
    "    \"Purple\",\n",
    "    \"Teal\",\n",
    "    \"Navy\",\n",
    "]\n",
    "color_values = [\n",
    "    [0, 0, 0],\n",
    "    [255, 255, 255],\n",
    "    [255, 0, 0],\n",
    "    [0, 255, 0],\n",
    "    [0, 0, 255],\n",
    "    [255, 255, 0],\n",
    "    [0, 255, 255],\n",
    "    [255, 0, 255],\n",
    "    [192, 192, 192],\n",
    "    [128, 128, 128],\n",
    "    [128, 0, 0],\n",
    "    [128, 128, 0],\n",
    "    [0, 128, 0],\n",
    "    [128, 0, 128],\n",
    "    [0, 128, 128],\n",
    "    [0, 0, 128],\n",
    "]\n",
    "color_dict = {}\n",
    "for i in range(len(color_names)):\n",
    "    color_dict[color_names[i]] = color_values[i]\n",
    "for name, value in color_dict.items():\n",
    "    x = np.full((1000, 1000, 3), value, dtype=np.uint8)\n",
    "    Image.fromarray(x).save(f\"images/{name}.jpg\")"
   ]
  },
  {
   "cell_type": "code",
   "execution_count": null,
   "metadata": {},
   "outputs": [],
   "source": [
    "color_dict"
   ]
  },
  {
   "cell_type": "markdown",
   "metadata": {},
   "source": [
    "# Filter images"
   ]
  },
  {
   "cell_type": "code",
   "execution_count": null,
   "metadata": {},
   "outputs": [],
   "source": [
    "from PIL import Image\n",
    "from IPython.display import display\n",
    "import numpy as np\n",
    "import os\n",
    "import matplotlib.pyplot as plt\n",
    "from sklearn.cluster import KMeans\n",
    "\n",
    "image_dir = \"generated_text_recognition_dataset/undistorted_images\"\n",
    "image_names = os.listdir(image_dir)"
   ]
  },
  {
   "cell_type": "code",
   "execution_count": null,
   "metadata": {},
   "outputs": [],
   "source": [
    "count = 0"
   ]
  },
  {
   "cell_type": "code",
   "execution_count": null,
   "metadata": {},
   "outputs": [],
   "source": [
    "image = np.array(Image.open(os.path.join(image_dir, image_names[count])))\n",
    "count += 1\n",
    "X = image.reshape((-1, 3))\n",
    "display(Image.fromarray(image))\n",
    "\n",
    "kmeans = KMeans(n_clusters=2, random_state=42).fit(X)\n",
    "label = kmeans.predict(X)\n",
    "tmp = np.zeros_like(X)\n",
    "for i in range(2):\n",
    "    tmp[label == i] = kmeans.cluster_centers_[i]\n",
    "tmp = tmp.reshape((image.shape[0], image.shape[1], image.shape[2]))\n",
    "display(Image.fromarray(tmp))\n",
    "print(\"Centers found by scikit-learn:\\n\", kmeans.cluster_centers_)\n",
    "mean_pixel = kmeans.cluster_centers_.mean(axis=-1)\n",
    "print(\"Mean pixel\", mean_pixel)\n",
    "print(\"Diff Mean pixel\", np.absolute(mean_pixel[0] - mean_pixel[1]))\n",
    "diff_channel = np.absolute(kmeans.cluster_centers_[0] - kmeans.cluster_centers_[1])\n",
    "print(\"max diff channel\", np.max(diff_channel))"
   ]
  },
  {
   "cell_type": "code",
   "execution_count": null,
   "metadata": {},
   "outputs": [],
   "source": [
    "count -= 2"
   ]
  },
  {
   "cell_type": "markdown",
   "metadata": {},
   "source": [
    "# Fix word dict"
   ]
  },
  {
   "cell_type": "code",
   "execution_count": 1,
   "metadata": {},
   "outputs": [],
   "source": [
    "import os\n",
    "import re"
   ]
  },
  {
   "cell_type": "code",
   "execution_count": 11,
   "metadata": {},
   "outputs": [],
   "source": [
    "# concat all files into larger one\n",
    "name = \"train27\"\n",
    "path = f\"vntc_dataset/{name}\"\n",
    "\n",
    "lines = []\n",
    "for file in os.listdir(path):\n",
    "    with open(os.path.join(path, file), \"r\", encoding=\"utf-16le\", errors=\"ignore\") as f:\n",
    "        tmp = f.readlines()\n",
    "    lines += tmp\n",
    "with open(f\"{path}.txt\", \"w\", encoding=\"utf-8\") as f:\n",
    "    f.writelines(lines)"
   ]
  },
  {
   "cell_type": "code",
   "execution_count": 1,
   "metadata": {},
   "outputs": [],
   "source": [
    "path = \"trdg/dicts/vi.txt\"\n",
    "with open(path, \"r\") as f:\n",
    "    lines = f.readlines()\n",
    "with open(\"base_dict.txt\", \"r\") as f:\n",
    "    base_dict = f.readlines()\n",
    "base_dict = [line.replace(\"\\n\", \"\") for line in base_dict]"
   ]
  },
  {
   "cell_type": "code",
   "execution_count": 5,
   "metadata": {},
   "outputs": [],
   "source": [
    "def remove_spaces_in_quotes(text):\n",
    "    # This regex finds text within quotes and removes leading/trailing spaces\n",
    "    text = re.sub(r'\"\\s*(.*?)\\s*\"', r'\"\\1\"', text)\n",
    "    text = re.sub(r\"'\\s*(.*?)\\s*'\", r\"'\\1'\", text)\n",
    "    return text\n",
    "\n",
    "\n",
    "def remove_spaces_before_punctuation(text):\n",
    "    # Define the punctuation marks\n",
    "    punctuation = r\"!%)}];:,.?\"\n",
    "    # Use regex to remove spaces before the punctuation marks\n",
    "    return re.sub(r\"\\s+([\" + re.escape(punctuation) + \"])\", r\"\\1\", text)\n",
    "\n",
    "\n",
    "def remove_spaces_after_characters(text):\n",
    "    # Define the characters\n",
    "    characters = r\"\\(\\{\\[\"\n",
    "    # Use regex to remove spaces after the characters\n",
    "    return re.sub(r\"([\" + re.escape(characters) + r\"])\\s+\", r\"\\1\", text)\n",
    "\n",
    "\n",
    "def remove_spaces_around_slash(text):\n",
    "    # Use regex to remove spaces before and after the \"/\"\n",
    "    return re.sub(r\"\\s*/\\s*\", \"/\", text)\n",
    "\n",
    "\n",
    "def remove_unwanted_chars(text, char_dict):\n",
    "    text = \"\".join(char for char in text if char in char_dict)\n",
    "    return text\n",
    "\n",
    "\n",
    "def process_text(text):\n",
    "    text = text.strip()\n",
    "    # text = text.replace(\"_\", \" \")\n",
    "    # text = remove_spaces_in_quotes(text)\n",
    "    # text = remove_spaces_before_punctuation(text)\n",
    "    # text = remove_spaces_after_characters(text)\n",
    "    # text = remove_spaces_around_slash(text)\n",
    "    text = remove_unwanted_chars(text, base_dict)\n",
    "    return text\n",
    "\n",
    "\n",
    "lines = [process_text(line) for line in lines]\n",
    "lines = [line for line in lines if len(line) > 0]"
   ]
  },
  {
   "cell_type": "code",
   "execution_count": null,
   "metadata": {},
   "outputs": [],
   "source": [
    "lines"
   ]
  },
  {
   "cell_type": "code",
   "execution_count": 7,
   "metadata": {},
   "outputs": [
    {
     "name": "stdout",
     "output_type": "stream",
     "text": [
      "{'|', 'Ỵ'}\n",
      "set()\n"
     ]
    }
   ],
   "source": [
    "def get_char_dict(lines):\n",
    "    text = \"\".join(lines)\n",
    "    return sorted(list(set(text)))\n",
    "\n",
    "\n",
    "char_dict = get_char_dict(lines)\n",
    "print(set(base_dict) - set(char_dict))\n",
    "print(set(char_dict) - set(base_dict))"
   ]
  },
  {
   "cell_type": "code",
   "execution_count": 8,
   "metadata": {},
   "outputs": [],
   "source": [
    "def get_words(lines):\n",
    "    text = \" \".join(lines)\n",
    "    word_list = text.split(\" \")\n",
    "    word_set = set(word_list)\n",
    "    word_list = sorted(list(word_set))\n",
    "    if len(word_list[0]) == 0:\n",
    "        return word_list[1:]\n",
    "    else:\n",
    "        return word_list\n",
    "\n",
    "\n",
    "words = get_words(lines)"
   ]
  },
  {
   "cell_type": "code",
   "execution_count": 9,
   "metadata": {},
   "outputs": [],
   "source": [
    "with open(\"trdg/dicts/vi.txt\", \"w\") as f:\n",
    "    for word in words:\n",
    "        f.write(word + \"\\n\")"
   ]
  },
  {
   "cell_type": "code",
   "execution_count": 13,
   "metadata": {},
   "outputs": [],
   "source": [
    "lines = []\n",
    "\n",
    "with open(\"all_words.txt\", \"r\") as f:\n",
    "    tmp = f.readlines()\n",
    "lines += tmp\n",
    "with open(\"trdg/dicts/vi.txt\", \"r\") as f:\n",
    "    tmp = f.readlines()\n",
    "lines += tmp\n",
    "with open(\"trdg/dicts/vi.txt\", \"w\") as f:\n",
    "    lines = sorted(list(set(lines)))\n",
    "    f.writelines(lines)"
   ]
  },
  {
   "cell_type": "code",
   "execution_count": 12,
   "metadata": {},
   "outputs": [
    {
     "data": {
      "text/plain": [
       "696859"
      ]
     },
     "execution_count": 12,
     "metadata": {},
     "output_type": "execute_result"
    }
   ],
   "source": [
    "len(set(lines))"
   ]
  },
  {
   "cell_type": "code",
   "execution_count": null,
   "metadata": {},
   "outputs": [],
   "source": []
  }
 ],
 "metadata": {
  "kernelspec": {
   "display_name": "venv",
   "language": "python",
   "name": "python3"
  },
  "language_info": {
   "codemirror_mode": {
    "name": "ipython",
    "version": 3
   },
   "file_extension": ".py",
   "mimetype": "text/x-python",
   "name": "python",
   "nbconvert_exporter": "python",
   "pygments_lexer": "ipython3",
   "version": "3.10.12"
  }
 },
 "nbformat": 4,
 "nbformat_minor": 2
}
